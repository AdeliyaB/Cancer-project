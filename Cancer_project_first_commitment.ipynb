{
 "cells": [
  {
   "attachments": {},
   "cell_type": "markdown",
   "metadata": {},
   "source": [
    "Подключаем стандартные библиотеки для работы с данными и визуализации данных"
   ]
  },
  {
   "cell_type": "code",
   "execution_count": 58,
   "metadata": {},
   "outputs": [],
   "source": [
    "import numpy as np\n",
    "import pandas as pd \n",
    "import matplotlib.pyplot as plt #для графики"
   ]
  },
  {
   "attachments": {},
   "cell_type": "markdown",
   "metadata": {},
   "source": [
    "Импортируем файлик с данными "
   ]
  },
  {
   "cell_type": "code",
   "execution_count": 59,
   "metadata": {},
   "outputs": [
    {
     "name": "stdout",
     "output_type": "stream",
     "text": [
      "<class 'pandas.core.frame.DataFrame'>\n",
      "RangeIndex: 569 entries, 0 to 568\n",
      "Data columns (total 33 columns):\n",
      " #   Column                   Non-Null Count  Dtype  \n",
      "---  ------                   --------------  -----  \n",
      " 0   id                       569 non-null    int64  \n",
      " 1   diagnosis                569 non-null    object \n",
      " 2   radius_mean              569 non-null    float64\n",
      " 3   texture_mean             569 non-null    float64\n",
      " 4   perimeter_mean           569 non-null    float64\n",
      " 5   area_mean                569 non-null    float64\n",
      " 6   smoothness_mean          569 non-null    float64\n",
      " 7   compactness_mean         569 non-null    float64\n",
      " 8   concavity_mean           569 non-null    float64\n",
      " 9   concave points_mean      569 non-null    float64\n",
      " 10  symmetry_mean            569 non-null    float64\n",
      " 11  fractal_dimension_mean   569 non-null    float64\n",
      " 12  radius_se                569 non-null    float64\n",
      " 13  texture_se               569 non-null    float64\n",
      " 14  perimeter_se             569 non-null    float64\n",
      " 15  area_se                  569 non-null    float64\n",
      " 16  smoothness_se            569 non-null    float64\n",
      " 17  compactness_se           569 non-null    float64\n",
      " 18  concavity_se             569 non-null    float64\n",
      " 19  concave points_se        569 non-null    float64\n",
      " 20  symmetry_se              569 non-null    float64\n",
      " 21  fractal_dimension_se     569 non-null    float64\n",
      " 22  radius_worst             569 non-null    float64\n",
      " 23  texture_worst            569 non-null    float64\n",
      " 24  perimeter_worst          569 non-null    float64\n",
      " 25  area_worst               569 non-null    float64\n",
      " 26  smoothness_worst         569 non-null    float64\n",
      " 27  compactness_worst        569 non-null    float64\n",
      " 28  concavity_worst          569 non-null    float64\n",
      " 29  concave points_worst     569 non-null    float64\n",
      " 30  symmetry_worst           569 non-null    float64\n",
      " 31  fractal_dimension_worst  569 non-null    float64\n",
      " 32  Unnamed: 32              0 non-null      float64\n",
      "dtypes: float64(31), int64(1), object(1)\n",
      "memory usage: 146.8+ KB\n",
      "None\n"
     ]
    }
   ],
   "source": [
    "data = pd.read_csv('/Users/adeliabiganakova/Desktop/Cancer model/Cancer_Data.csv') \n",
    "print(data.info())"
   ]
  },
  {
   "attachments": {},
   "cell_type": "markdown",
   "metadata": {},
   "source": [
    "Корректируем данные: убираем значения 'id' 'Unnamed:32', потому что они не информативны и вносят шумы в обучение. Объекты преобразуем в числа, так как дальше мы будем нормализовать данные. Поскольку мы решаем задачу бинарной классификации, в значении diagnosis будет 1, если опухоль злокачественная (M == malignant), и 0, если доброкачественная (B)"
   ]
  },
  {
   "cell_type": "code",
   "execution_count": 60,
   "metadata": {},
   "outputs": [
    {
     "name": "stdout",
     "output_type": "stream",
     "text": [
      "     radius_mean  texture_mean  perimeter_mean  area_mean  smoothness_mean   \n",
      "0          17.99         10.38          122.80     1001.0          0.11840  \\\n",
      "1          20.57         17.77          132.90     1326.0          0.08474   \n",
      "2          19.69         21.25          130.00     1203.0          0.10960   \n",
      "3          11.42         20.38           77.58      386.1          0.14250   \n",
      "4          20.29         14.34          135.10     1297.0          0.10030   \n",
      "..           ...           ...             ...        ...              ...   \n",
      "564        21.56         22.39          142.00     1479.0          0.11100   \n",
      "565        20.13         28.25          131.20     1261.0          0.09780   \n",
      "566        16.60         28.08          108.30      858.1          0.08455   \n",
      "567        20.60         29.33          140.10     1265.0          0.11780   \n",
      "568         7.76         24.54           47.92      181.0          0.05263   \n",
      "\n",
      "     compactness_mean  concavity_mean  concave points_mean  symmetry_mean   \n",
      "0             0.27760         0.30010              0.14710         0.2419  \\\n",
      "1             0.07864         0.08690              0.07017         0.1812   \n",
      "2             0.15990         0.19740              0.12790         0.2069   \n",
      "3             0.28390         0.24140              0.10520         0.2597   \n",
      "4             0.13280         0.19800              0.10430         0.1809   \n",
      "..                ...             ...                  ...            ...   \n",
      "564           0.11590         0.24390              0.13890         0.1726   \n",
      "565           0.10340         0.14400              0.09791         0.1752   \n",
      "566           0.10230         0.09251              0.05302         0.1590   \n",
      "567           0.27700         0.35140              0.15200         0.2397   \n",
      "568           0.04362         0.00000              0.00000         0.1587   \n",
      "\n",
      "     fractal_dimension_mean  ...  radius_worst  texture_worst   \n",
      "0                   0.07871  ...        25.380          17.33  \\\n",
      "1                   0.05667  ...        24.990          23.41   \n",
      "2                   0.05999  ...        23.570          25.53   \n",
      "3                   0.09744  ...        14.910          26.50   \n",
      "4                   0.05883  ...        22.540          16.67   \n",
      "..                      ...  ...           ...            ...   \n",
      "564                 0.05623  ...        25.450          26.40   \n",
      "565                 0.05533  ...        23.690          38.25   \n",
      "566                 0.05648  ...        18.980          34.12   \n",
      "567                 0.07016  ...        25.740          39.42   \n",
      "568                 0.05884  ...         9.456          30.37   \n",
      "\n",
      "     perimeter_worst  area_worst  smoothness_worst  compactness_worst   \n",
      "0             184.60      2019.0           0.16220            0.66560  \\\n",
      "1             158.80      1956.0           0.12380            0.18660   \n",
      "2             152.50      1709.0           0.14440            0.42450   \n",
      "3              98.87       567.7           0.20980            0.86630   \n",
      "4             152.20      1575.0           0.13740            0.20500   \n",
      "..               ...         ...               ...                ...   \n",
      "564           166.10      2027.0           0.14100            0.21130   \n",
      "565           155.00      1731.0           0.11660            0.19220   \n",
      "566           126.70      1124.0           0.11390            0.30940   \n",
      "567           184.60      1821.0           0.16500            0.86810   \n",
      "568            59.16       268.6           0.08996            0.06444   \n",
      "\n",
      "     concavity_worst  concave points_worst  symmetry_worst   \n",
      "0             0.7119                0.2654          0.4601  \\\n",
      "1             0.2416                0.1860          0.2750   \n",
      "2             0.4504                0.2430          0.3613   \n",
      "3             0.6869                0.2575          0.6638   \n",
      "4             0.4000                0.1625          0.2364   \n",
      "..               ...                   ...             ...   \n",
      "564           0.4107                0.2216          0.2060   \n",
      "565           0.3215                0.1628          0.2572   \n",
      "566           0.3403                0.1418          0.2218   \n",
      "567           0.9387                0.2650          0.4087   \n",
      "568           0.0000                0.0000          0.2871   \n",
      "\n",
      "     fractal_dimension_worst  \n",
      "0                    0.11890  \n",
      "1                    0.08902  \n",
      "2                    0.08758  \n",
      "3                    0.17300  \n",
      "4                    0.07678  \n",
      "..                       ...  \n",
      "564                  0.07115  \n",
      "565                  0.06637  \n",
      "566                  0.07820  \n",
      "567                  0.12400  \n",
      "568                  0.07039  \n",
      "\n",
      "[569 rows x 30 columns]\n",
      "     0\n",
      "0    1\n",
      "1    1\n",
      "2    1\n",
      "3    1\n",
      "4    1\n",
      "..  ..\n",
      "564  1\n",
      "565  1\n",
      "566  1\n",
      "567  1\n",
      "568  0\n",
      "\n",
      "[569 rows x 1 columns]\n"
     ]
    }
   ],
   "source": [
    "data.drop([\"Unnamed: 32\",\"id\"],axis=1,inplace = True) \n",
    "data.diagnosis = [1 if each == \"M\" else 0 for each in data.diagnosis] \n",
    "y = data.diagnosis.values\n",
    "x_data = data.drop([\"diagnosis\"],axis = 1)\n",
    "print(pd.DataFrame(x_data))\n",
    "print(pd.DataFrame(y))"
   ]
  },
  {
   "attachments": {},
   "cell_type": "markdown",
   "metadata": {},
   "source": [
    "Нормируем данные "
   ]
  },
  {
   "cell_type": "code",
   "execution_count": 61,
   "metadata": {},
   "outputs": [
    {
     "name": "stdout",
     "output_type": "stream",
     "text": [
      "     radius_mean  texture_mean  perimeter_mean  area_mean  smoothness_mean   \n",
      "0       0.004229      0.002440        0.028867   0.235308         0.000028  \\\n",
      "1       0.004835      0.004177        0.031241   0.311707         0.000020   \n",
      "2       0.004629      0.004995        0.030559   0.282793         0.000026   \n",
      "3       0.002685      0.004791        0.018237   0.090762         0.000033   \n",
      "4       0.004770      0.003371        0.031758   0.304890         0.000024   \n",
      "..           ...           ...             ...        ...              ...   \n",
      "564     0.005068      0.005263        0.033380   0.347673         0.000026   \n",
      "565     0.004732      0.006641        0.030842   0.296427         0.000023   \n",
      "566     0.003902      0.006601        0.025458   0.201716         0.000020   \n",
      "567     0.004843      0.006895        0.032934   0.297367         0.000028   \n",
      "568     0.001824      0.005769        0.011265   0.042548         0.000012   \n",
      "\n",
      "     compactness_mean  concavity_mean  concave points_mean  symmetry_mean   \n",
      "0            0.000065        0.000071             0.000035       0.000057  \\\n",
      "1            0.000018        0.000020             0.000016       0.000043   \n",
      "2            0.000038        0.000046             0.000030       0.000049   \n",
      "3            0.000067        0.000057             0.000025       0.000061   \n",
      "4            0.000031        0.000047             0.000025       0.000043   \n",
      "..                ...             ...                  ...            ...   \n",
      "564          0.000027        0.000057             0.000033       0.000041   \n",
      "565          0.000024        0.000034             0.000023       0.000041   \n",
      "566          0.000024        0.000022             0.000012       0.000037   \n",
      "567          0.000065        0.000083             0.000036       0.000056   \n",
      "568          0.000010        0.000000             0.000000       0.000037   \n",
      "\n",
      "     fractal_dimension_mean  ...  radius_worst  texture_worst   \n",
      "0                  0.000019  ...      0.005966       0.004074  \\\n",
      "1                  0.000013  ...      0.005874       0.005503   \n",
      "2                  0.000014  ...      0.005541       0.006001   \n",
      "3                  0.000023  ...      0.003505       0.006229   \n",
      "4                  0.000014  ...      0.005299       0.003919   \n",
      "..                      ...  ...           ...            ...   \n",
      "564                0.000013  ...      0.005983       0.006206   \n",
      "565                0.000013  ...      0.005569       0.008992   \n",
      "566                0.000013  ...      0.004462       0.008021   \n",
      "567                0.000016  ...      0.006051       0.009267   \n",
      "568                0.000014  ...      0.002223       0.007139   \n",
      "\n",
      "     perimeter_worst  area_worst  smoothness_worst  compactness_worst   \n",
      "0           0.043394    0.474612          0.000038           0.000156  \\\n",
      "1           0.037330    0.459803          0.000029           0.000044   \n",
      "2           0.035849    0.401740          0.000034           0.000100   \n",
      "3           0.023242    0.133451          0.000049           0.000204   \n",
      "4           0.035778    0.370240          0.000032           0.000048   \n",
      "..               ...         ...               ...                ...   \n",
      "564         0.039046    0.476493          0.000033           0.000050   \n",
      "565         0.036436    0.406911          0.000027           0.000045   \n",
      "566         0.029784    0.264222          0.000027           0.000073   \n",
      "567         0.043394    0.428068          0.000039           0.000204   \n",
      "568         0.013907    0.063141          0.000021           0.000015   \n",
      "\n",
      "     concavity_worst  concave points_worst  symmetry_worst   \n",
      "0           0.000167              0.000062        0.000108  \\\n",
      "1           0.000057              0.000044        0.000065   \n",
      "2           0.000106              0.000057        0.000085   \n",
      "3           0.000161              0.000061        0.000156   \n",
      "4           0.000094              0.000038        0.000056   \n",
      "..               ...                   ...             ...   \n",
      "564         0.000097              0.000052        0.000048   \n",
      "565         0.000076              0.000038        0.000060   \n",
      "566         0.000080              0.000033        0.000052   \n",
      "567         0.000221              0.000062        0.000096   \n",
      "568         0.000000              0.000000        0.000067   \n",
      "\n",
      "     fractal_dimension_worst  \n",
      "0                   0.000028  \n",
      "1                   0.000021  \n",
      "2                   0.000021  \n",
      "3                   0.000041  \n",
      "4                   0.000018  \n",
      "..                       ...  \n",
      "564                 0.000017  \n",
      "565                 0.000016  \n",
      "566                 0.000018  \n",
      "567                 0.000029  \n",
      "568                 0.000017  \n",
      "\n",
      "[569 rows x 30 columns]\n"
     ]
    }
   ],
   "source": [
    "x = (x_data - np.min(x_data))/(np.max(x_data)-np.min(x_data)) #Normalization Formula\n",
    "print(pd.DataFrame(x))"
   ]
  },
  {
   "attachments": {},
   "cell_type": "markdown",
   "metadata": {},
   "source": [
    "Делим все данные на тренировочные и тестирующие"
   ]
  },
  {
   "cell_type": "code",
   "execution_count": 62,
   "metadata": {},
   "outputs": [],
   "source": [
    "from sklearn.model_selection import train_test_split\n",
    "x_train, x_test, y_train, y_test = train_test_split(x,y,test_size=0.2,random_state=42)"
   ]
  },
  {
   "attachments": {},
   "cell_type": "markdown",
   "metadata": {},
   "source": [
    "Транспонируем матрицы для того, чтобы можно было их перемножать (ну из-за \"nxm mxn\")"
   ]
  },
  {
   "cell_type": "code",
   "execution_count": 63,
   "metadata": {},
   "outputs": [],
   "source": [
    "x_train = x_train.T \n",
    "x_test = x_test.T\n",
    "y_train = y_train.T\n",
    "y_test = y_test.T"
   ]
  },
  {
   "attachments": {},
   "cell_type": "markdown",
   "metadata": {},
   "source": [
    "Определяем стандартные веса и байес"
   ]
  },
  {
   "cell_type": "code",
   "execution_count": 64,
   "metadata": {},
   "outputs": [],
   "source": [
    "def initialize_weights_and_bias(dimension):\n",
    "    w=np.full((dimension,1),0.01) \n",
    "    b = 0.0 \n",
    "    \n",
    "    return w,b"
   ]
  },
  {
   "attachments": {},
   "cell_type": "markdown",
   "metadata": {},
   "source": [
    "В качестве функции выбираем сигмоиду, потому что она точно в диапозоне от 0 до 1, и дифференциируема (можно использовать в градиентном спуске)"
   ]
  },
  {
   "cell_type": "code",
   "execution_count": 65,
   "metadata": {},
   "outputs": [],
   "source": [
    "def sigmoid(z): \n",
    "    y_head = 1/(1+np.exp(-z)) \n",
    "    return y_head "
   ]
  },
  {
   "attachments": {},
   "cell_type": "markdown",
   "metadata": {},
   "source": [
    "Дальше будут все функции, которые мы используем, но с описанием "
   ]
  }
 ],
 "metadata": {
  "kernelspec": {
   "display_name": "Python 3",
   "language": "python",
   "name": "python3"
  },
  "language_info": {
   "codemirror_mode": {
    "name": "ipython",
    "version": 3
   },
   "file_extension": ".py",
   "mimetype": "text/x-python",
   "name": "python",
   "nbconvert_exporter": "python",
   "pygments_lexer": "ipython3",
   "version": "3.9.6"
  },
  "orig_nbformat": 4
 },
 "nbformat": 4,
 "nbformat_minor": 2
}
